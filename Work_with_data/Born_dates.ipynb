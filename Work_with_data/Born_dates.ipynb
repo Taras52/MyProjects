{
 "cells": [
  {
   "cell_type": "raw",
   "metadata": {},
   "source": [
    "С использованием Pandas написать функцию, которая загружает указанные года и выводит ТОП-3 популярных имен. Например:\n",
    "    count_top3([1880]) == ['John', 'William', 'Mary']\n",
    "    count_top3([1900, 1950, 2000]) == ['James', 'John', 'Robert']"
   ]
  },
  {
   "cell_type": "code",
   "execution_count": 119,
   "metadata": {},
   "outputs": [],
   "source": [
    "import pandas as pd"
   ]
  },
  {
   "cell_type": "code",
   "execution_count": 6,
   "metadata": {},
   "outputs": [],
   "source": [
    "DATA_PATH = '/Users/a.tarasov/Downloads/names/'"
   ]
  },
  {
   "cell_type": "code",
   "execution_count": 118,
   "metadata": {},
   "outputs": [
    {
     "data": {
      "text/plain": [
       "['Michael', 'Jennifer', 'Christopher']"
      ]
     },
     "execution_count": 118,
     "metadata": {},
     "output_type": "execute_result"
    }
   ],
   "source": [
    "def top3_name(list_of_years):\n",
    "    df_list = pd.DataFrame()\n",
    "    for year in list_of_years:\n",
    "        df_list_wo_year = pd.read_csv(DATA_PATH + 'yob' + str(year) + '.txt', names=['Name','Gender','Count'])\n",
    "        df_list_wo_year['Year'] = year\n",
    "        df_list = df_list.append(df_list_wo_year)\n",
    "        df_by_name = df_list.groupby('Name').Count.sum().to_frame()\n",
    "        df_sorted = df_by_name.sort_values('Count', ascending=False)\n",
    "        top3_names_list = df_sorted.head(3).index.tolist()\n",
    "    return top3_names_list\n",
    "        \n",
    "\n",
    "top3 = top3_name([1980])\n",
    "top3"
   ]
  },
  {
   "cell_type": "raw",
   "metadata": {},
   "source": [
    "С использованием Pandas написать функцию, которая возвращает динамику изменения количества имен за указанные года в разрезе полов. Например:\n",
    "\n",
    " count_dynamics([1900, 1950, 2000]) == {\n",
    "          'F': [299810, 1713259, 1814922],\n",
    "          'M': [150486, 1790871, 1962744]\n",
    "        }"
   ]
  },
  {
   "cell_type": "code",
   "execution_count": 130,
   "metadata": {},
   "outputs": [
    {
     "data": {
      "text/plain": [
       "{'F': [299810, 1713259, 1897940], 'M': [150486, 1790871, 2052780]}"
      ]
     },
     "execution_count": 130,
     "metadata": {},
     "output_type": "execute_result"
    }
   ],
   "source": [
    "def dynamic_by_sex(list_of_years):\n",
    "    df_list = pd.DataFrame()\n",
    "    results = {}\n",
    "    for year in list_of_years:\n",
    "        df_list_wo_year = pd.read_csv(DATA_PATH + 'yob' + str(year) + '.txt', names=['Name','Gender','Count'])\n",
    "        df_list_wo_year['Year'] = year\n",
    "        df_list = df_list.append(df_list_wo_year)\n",
    "        female_dynamics = list(df_list[df_list.Gender=='F'].groupby('Year').Count.sum().to_frame()['Count'])\n",
    "        results['F'] = female_dynamics\n",
    "        male_dynamics = list(df_list[df_list.Gender=='M'].groupby('Year').Count.sum().to_frame()['Count'])\n",
    "        results['M'] = male_dynamics\n",
    "    return results\n",
    "\n",
    "\n",
    "dynamics = dynamic_by_sex([1900, 1950, 1990])\n",
    "dynamics"
   ]
  },
  {
   "cell_type": "code",
   "execution_count": null,
   "metadata": {},
   "outputs": [],
   "source": []
  }
 ],
 "metadata": {
  "kernelspec": {
   "display_name": "Python 3",
   "language": "python",
   "name": "python3"
  },
  "language_info": {
   "codemirror_mode": {
    "name": "ipython",
    "version": 3
   },
   "file_extension": ".py",
   "mimetype": "text/x-python",
   "name": "python",
   "nbconvert_exporter": "python",
   "pygments_lexer": "ipython3",
   "version": "3.6.4"
  }
 },
 "nbformat": 4,
 "nbformat_minor": 2
}
