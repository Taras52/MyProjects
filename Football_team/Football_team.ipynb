{
 "cells": [
  {
   "cell_type": "raw",
   "metadata": {},
   "source": [
    "Решение выполнения задач необходимо предоставить в виде ссылки на файл формата Jupyter (ipynb) в GitHub.\n",
    "В файле должны быть сохранены результаты запуска на тестовых данных.\n",
    "Дано: http://api.football-data.org/docs/v1/index.html для данных о футбольных матчах и командах.\n",
    "Используя kmeans сделать кластеризацию футбольных команд по стоимости и количеству проигрышей, \n",
    "результат отобразить в виде точечного графика для случая из 3 и из 5 кластеров. \n",
    "Если стоимость команд не указана, то сгенерировать случайные стоимости для команд."
   ]
  },
  {
   "cell_type": "code",
   "execution_count": 2,
   "metadata": {},
   "outputs": [],
   "source": [
    "import requests\n",
    "import pandas as pd\n",
    "import numpy as np\n",
    "import matplotlib.pyplot as plt\n",
    "from scipy.cluster.vq import whiten, kmeans2\n",
    "\n",
    "%matplotlib inline"
   ]
  },
  {
   "cell_type": "code",
   "execution_count": 13,
   "metadata": {},
   "outputs": [],
   "source": [
    "def football_api(uri, result_key):\n",
    "    json = {}\n",
    "    try:\n",
    "        json = requests.get(uri, headers = { 'X-Auth-Token': 'a4edd69781fc42749b4b3f5154d70b1d' }).json()\n",
    "        return json[result_key]\n",
    "    except:\n",
    "        print(json)\n",
    "        return None"
   ]
  },
  {
   "cell_type": "raw",
   "metadata": {},
   "source": [
    "Список лиг"
   ]
  },
  {
   "cell_type": "code",
   "execution_count": 5,
   "metadata": {},
   "outputs": [],
   "source": [
    "leagues = requests.get('http://api.football-data.org/v1/soccerseasons', headers = { 'X-Auth-Token': 'c52b7825851b4357af3e06c1888152f0' }).json()"
   ]
  },
  {
   "cell_type": "raw",
   "metadata": {},
   "source": [
    "Возьмем Бундеслигу - id452"
   ]
  },
  {
   "cell_type": "code",
   "execution_count": 10,
   "metadata": {},
   "outputs": [
    {
     "data": {
      "text/plain": [
       "{'_links': {'fixtures': {'href': 'http://api.football-data.org/v1/soccerseasons/452/fixtures'},\n",
       "  'leagueTable': {'href': 'http://api.football-data.org/v1/soccerseasons/452/leagueTable'},\n",
       "  'self': {'href': 'http://api.football-data.org/v1/soccerseasons/452'},\n",
       "  'teams': {'href': 'http://api.football-data.org/v1/soccerseasons/452/teams'}},\n",
       " 'caption': '1. Bundesliga 2017/18',\n",
       " 'currentMatchday': 24,\n",
       " 'id': 452,\n",
       " 'lastUpdated': '2018-02-26T20:00:53Z',\n",
       " 'league': 'BL1',\n",
       " 'numberOfGames': 306,\n",
       " 'numberOfMatchdays': 34,\n",
       " 'numberOfTeams': 18,\n",
       " 'year': '2017'}"
      ]
     },
     "execution_count": 10,
     "metadata": {},
     "output_type": "execute_result"
    }
   ],
   "source": [
    "leagues[8]"
   ]
  },
  {
   "cell_type": "raw",
   "metadata": {},
   "source": [
    "Команды лиги:"
   ]
  },
  {
   "cell_type": "code",
   "execution_count": 15,
   "metadata": {},
   "outputs": [
    {
     "data": {
      "text/plain": [
       "[{'_links': {'fixtures': {'href': 'http://api.football-data.org/v1/teams/5/fixtures'},\n",
       "   'players': {'href': 'http://api.football-data.org/v1/teams/5/players'},\n",
       "   'self': {'href': 'http://api.football-data.org/v1/teams/5'}},\n",
       "  'code': 'FCB',\n",
       "  'crestUrl': 'https://upload.wikimedia.org/wikipedia/en/1/1b/FC_Bayern_München_logo_(2017).svg',\n",
       "  'name': 'FC Bayern München',\n",
       "  'shortName': 'Bayern',\n",
       "  'squadMarketValue': None},\n",
       " {'_links': {'fixtures': {'href': 'http://api.football-data.org/v1/teams/3/fixtures'},\n",
       "   'players': {'href': 'http://api.football-data.org/v1/teams/3/players'},\n",
       "   'self': {'href': 'http://api.football-data.org/v1/teams/3'}},\n",
       "  'code': 'B04',\n",
       "  'crestUrl': 'https://upload.wikimedia.org/wikipedia/en/5/59/Bayer_04_Leverkusen_logo.svg',\n",
       "  'name': 'Bayer Leverkusen',\n",
       "  'shortName': 'Leverkusen',\n",
       "  'squadMarketValue': None},\n",
       " {'_links': {'fixtures': {'href': 'http://api.football-data.org/v1/teams/7/fixtures'},\n",
       "   'players': {'href': 'http://api.football-data.org/v1/teams/7/players'},\n",
       "   'self': {'href': 'http://api.football-data.org/v1/teams/7'}},\n",
       "  'code': 'HSV',\n",
       "  'crestUrl': 'http://upload.wikimedia.org/wikipedia/commons/6/66/HSV-Logo.svg',\n",
       "  'name': 'Hamburger SV',\n",
       "  'shortName': 'HSV',\n",
       "  'squadMarketValue': None},\n",
       " {'_links': {'fixtures': {'href': 'http://api.football-data.org/v1/teams/16/fixtures'},\n",
       "   'players': {'href': 'http://api.football-data.org/v1/teams/16/players'},\n",
       "   'self': {'href': 'http://api.football-data.org/v1/teams/16'}},\n",
       "  'code': 'FCA',\n",
       "  'crestUrl': 'http://upload.wikimedia.org/wikipedia/de/b/b5/Logo_FC_Augsburg.svg',\n",
       "  'name': 'FC Augsburg',\n",
       "  'shortName': 'Augsburg',\n",
       "  'squadMarketValue': None},\n",
       " {'_links': {'fixtures': {'href': 'http://api.football-data.org/v1/teams/9/fixtures'},\n",
       "   'players': {'href': 'http://api.football-data.org/v1/teams/9/players'},\n",
       "   'self': {'href': 'http://api.football-data.org/v1/teams/9'}},\n",
       "  'code': 'BSC',\n",
       "  'crestUrl': 'https://upload.wikimedia.org/wikipedia/commons/8/81/Hertha_BSC_Logo_2012.svg',\n",
       "  'name': 'Hertha BSC',\n",
       "  'shortName': 'Hertha',\n",
       "  'squadMarketValue': None},\n",
       " {'_links': {'fixtures': {'href': 'http://api.football-data.org/v1/teams/10/fixtures'},\n",
       "   'players': {'href': 'http://api.football-data.org/v1/teams/10/players'},\n",
       "   'self': {'href': 'http://api.football-data.org/v1/teams/10'}},\n",
       "  'code': 'VFB',\n",
       "  'crestUrl': 'http://upload.wikimedia.org/wikipedia/commons/a/ab/VfB_Stuttgart_Logo.svg',\n",
       "  'name': 'VfB Stuttgart',\n",
       "  'shortName': 'Stuttgart',\n",
       "  'squadMarketValue': None},\n",
       " {'_links': {'fixtures': {'href': 'http://api.football-data.org/v1/teams/2/fixtures'},\n",
       "   'players': {'href': 'http://api.football-data.org/v1/teams/2/players'},\n",
       "   'self': {'href': 'http://api.football-data.org/v1/teams/2'}},\n",
       "  'code': 'TSG',\n",
       "  'crestUrl': 'https://upload.wikimedia.org/wikipedia/commons/e/e7/Logo_TSG_Hoffenheim.svg',\n",
       "  'name': 'TSG 1899 Hoffenheim',\n",
       "  'shortName': 'Hoffenheim',\n",
       "  'squadMarketValue': None},\n",
       " {'_links': {'fixtures': {'href': 'http://api.football-data.org/v1/teams/12/fixtures'},\n",
       "   'players': {'href': 'http://api.football-data.org/v1/teams/12/players'},\n",
       "   'self': {'href': 'http://api.football-data.org/v1/teams/12'}},\n",
       "  'code': 'SVW',\n",
       "  'crestUrl': 'http://upload.wikimedia.org/wikipedia/commons/b/be/SV-Werder-Bremen-Logo.svg',\n",
       "  'name': 'Werder Bremen',\n",
       "  'shortName': 'Bremen',\n",
       "  'squadMarketValue': None},\n",
       " {'_links': {'fixtures': {'href': 'http://api.football-data.org/v1/teams/15/fixtures'},\n",
       "   'players': {'href': 'http://api.football-data.org/v1/teams/15/players'},\n",
       "   'self': {'href': 'http://api.football-data.org/v1/teams/15'}},\n",
       "  'code': 'M05',\n",
       "  'crestUrl': 'https://upload.wikimedia.org/wikipedia/en/7/75/FSV_Mainz_05.svg',\n",
       "  'name': '1. FSV Mainz 05',\n",
       "  'shortName': 'Mainz',\n",
       "  'squadMarketValue': None},\n",
       " {'_links': {'fixtures': {'href': 'http://api.football-data.org/v1/teams/8/fixtures'},\n",
       "   'players': {'href': 'http://api.football-data.org/v1/teams/8/players'},\n",
       "   'self': {'href': 'http://api.football-data.org/v1/teams/8'}},\n",
       "  'code': 'H96',\n",
       "  'crestUrl': 'https://upload.wikimedia.org/wikipedia/commons/c/cd/Hannover_96_Logo.svg',\n",
       "  'name': 'Hannover 96',\n",
       "  'shortName': 'Hannover',\n",
       "  'squadMarketValue': None},\n",
       " {'_links': {'fixtures': {'href': 'http://api.football-data.org/v1/teams/11/fixtures'},\n",
       "   'players': {'href': 'http://api.football-data.org/v1/teams/11/players'},\n",
       "   'self': {'href': 'http://api.football-data.org/v1/teams/11'}},\n",
       "  'code': 'WOB',\n",
       "  'crestUrl': 'https://upload.wikimedia.org/wikipedia/commons/f/f3/Logo-VfL-Wolfsburg.svg',\n",
       "  'name': 'VfL Wolfsburg',\n",
       "  'shortName': 'Wolfsburg',\n",
       "  'squadMarketValue': None},\n",
       " {'_links': {'fixtures': {'href': 'http://api.football-data.org/v1/teams/4/fixtures'},\n",
       "   'players': {'href': 'http://api.football-data.org/v1/teams/4/players'},\n",
       "   'self': {'href': 'http://api.football-data.org/v1/teams/4'}},\n",
       "  'code': 'BVB',\n",
       "  'crestUrl': 'http://upload.wikimedia.org/wikipedia/commons/6/67/Borussia_Dortmund_logo.svg',\n",
       "  'name': 'Borussia Dortmund',\n",
       "  'shortName': 'Dortmund',\n",
       "  'squadMarketValue': None},\n",
       " {'_links': {'fixtures': {'href': 'http://api.football-data.org/v1/teams/6/fixtures'},\n",
       "   'players': {'href': 'http://api.football-data.org/v1/teams/6/players'},\n",
       "   'self': {'href': 'http://api.football-data.org/v1/teams/6'}},\n",
       "  'code': 'S04',\n",
       "  'crestUrl': 'https://upload.wikimedia.org/wikipedia/commons/6/6d/FC_Schalke_04_Logo.svg',\n",
       "  'name': 'FC Schalke 04',\n",
       "  'shortName': 'Schalke',\n",
       "  'squadMarketValue': None},\n",
       " {'_links': {'fixtures': {'href': 'http://api.football-data.org/v1/teams/721/fixtures'},\n",
       "   'players': {'href': 'http://api.football-data.org/v1/teams/721/players'},\n",
       "   'self': {'href': 'http://api.football-data.org/v1/teams/721'}},\n",
       "  'code': 'RBL',\n",
       "  'crestUrl': 'https://upload.wikimedia.org/wikipedia/en/0/04/RB_Leipzig_2014_logo.svg',\n",
       "  'name': 'Red Bull Leipzig',\n",
       "  'shortName': 'Leipzig',\n",
       "  'squadMarketValue': None},\n",
       " {'_links': {'fixtures': {'href': 'http://api.football-data.org/v1/teams/17/fixtures'},\n",
       "   'players': {'href': 'http://api.football-data.org/v1/teams/17/players'},\n",
       "   'self': {'href': 'http://api.football-data.org/v1/teams/17'}},\n",
       "  'code': 'SCF',\n",
       "  'crestUrl': 'http://upload.wikimedia.org/wikipedia/de/f/f1/SC-Freiburg_Logo-neu.svg',\n",
       "  'name': 'SC Freiburg',\n",
       "  'shortName': 'Freiburg',\n",
       "  'squadMarketValue': None},\n",
       " {'_links': {'fixtures': {'href': 'http://api.football-data.org/v1/teams/19/fixtures'},\n",
       "   'players': {'href': 'http://api.football-data.org/v1/teams/19/players'},\n",
       "   'self': {'href': 'http://api.football-data.org/v1/teams/19'}},\n",
       "  'code': 'SGE',\n",
       "  'crestUrl': 'http://upload.wikimedia.org/wikipedia/commons/0/04/Eintracht_Frankfurt_Logo.svg',\n",
       "  'name': 'Eintracht Frankfurt',\n",
       "  'shortName': 'Frankfurt',\n",
       "  'squadMarketValue': None},\n",
       " {'_links': {'fixtures': {'href': 'http://api.football-data.org/v1/teams/18/fixtures'},\n",
       "   'players': {'href': 'http://api.football-data.org/v1/teams/18/players'},\n",
       "   'self': {'href': 'http://api.football-data.org/v1/teams/18'}},\n",
       "  'code': 'BMG',\n",
       "  'crestUrl': 'https://upload.wikimedia.org/wikipedia/commons/8/81/Borussia_Mönchengladbach_logo.svg',\n",
       "  'name': 'Bor. Mönchengladbach',\n",
       "  'shortName': 'Gladbach',\n",
       "  'squadMarketValue': None},\n",
       " {'_links': {'fixtures': {'href': 'http://api.football-data.org/v1/teams/1/fixtures'},\n",
       "   'players': {'href': 'http://api.football-data.org/v1/teams/1/players'},\n",
       "   'self': {'href': 'http://api.football-data.org/v1/teams/1'}},\n",
       "  'code': 'EFFZEH',\n",
       "  'crestUrl': 'https://upload.wikimedia.org/wikipedia/en/5/53/FC_Cologne_logo.svg',\n",
       "  'name': '1. FC Köln',\n",
       "  'shortName': 'Köln',\n",
       "  'squadMarketValue': None}]"
      ]
     },
     "execution_count": 15,
     "metadata": {},
     "output_type": "execute_result"
    }
   ],
   "source": [
    "teams = football_api('http://api.football-data.org/v1/soccerseasons/452/teams', 'teams')\n",
    "teams"
   ]
  },
  {
   "cell_type": "code",
   "execution_count": null,
   "metadata": {},
   "outputs": [],
   "source": []
  }
 ],
 "metadata": {
  "kernelspec": {
   "display_name": "Python 3",
   "language": "python",
   "name": "python3"
  },
  "language_info": {
   "codemirror_mode": {
    "name": "ipython",
    "version": 3
   },
   "file_extension": ".py",
   "mimetype": "text/x-python",
   "name": "python",
   "nbconvert_exporter": "python",
   "pygments_lexer": "ipython3",
   "version": "3.6.4"
  }
 },
 "nbformat": 4,
 "nbformat_minor": 2
}
